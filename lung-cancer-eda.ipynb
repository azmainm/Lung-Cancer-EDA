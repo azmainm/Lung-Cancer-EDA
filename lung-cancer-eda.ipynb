{
 "cells": [
  {
   "cell_type": "markdown",
   "id": "c3dd2035",
   "metadata": {
    "papermill": {
     "duration": 0.011133,
     "end_time": "2022-07-19T17:41:54.435811",
     "exception": false,
     "start_time": "2022-07-19T17:41:54.424678",
     "status": "completed"
    },
    "tags": []
   },
   "source": [
    "# Introduction"
   ]
  },
  {
   "cell_type": "markdown",
   "id": "19ccc41c",
   "metadata": {
    "papermill": {
     "duration": 0.009537,
     "end_time": "2022-07-19T17:41:54.455480",
     "exception": false,
     "start_time": "2022-07-19T17:41:54.445943",
     "status": "completed"
    },
    "tags": []
   },
   "source": [
    "**This is an exploratory data analysis (EDA) notebook on a lung cancer dataset that contains different features/attributes that could help find insights to why some people are diagnosed with lung cancer, what may have led to getting the cancer, symptoms, trends across ages, gender, etc.**"
   ]
  },
  {
   "cell_type": "markdown",
   "id": "d5830bae",
   "metadata": {
    "papermill": {
     "duration": 0.009417,
     "end_time": "2022-07-19T17:41:54.475494",
     "exception": false,
     "start_time": "2022-07-19T17:41:54.466077",
     "status": "completed"
    },
    "tags": []
   },
   "source": [
    "# Importing Libraries and Dataset"
   ]
  },
  {
   "cell_type": "code",
   "execution_count": 1,
   "id": "9823e5e6",
   "metadata": {
    "_cell_guid": "b1076dfc-b9ad-4769-8c92-a6c4dae69d19",
    "_uuid": "8f2839f25d086af736a60e9eeb907d3b93b6e0e5",
    "execution": {
     "iopub.execute_input": "2022-07-19T17:41:54.497027Z",
     "iopub.status.busy": "2022-07-19T17:41:54.496567Z",
     "iopub.status.idle": "2022-07-19T17:41:55.767239Z",
     "shell.execute_reply": "2022-07-19T17:41:55.766087Z"
    },
    "papermill": {
     "duration": 1.284978,
     "end_time": "2022-07-19T17:41:55.770389",
     "exception": false,
     "start_time": "2022-07-19T17:41:54.485411",
     "status": "completed"
    },
    "tags": []
   },
   "outputs": [],
   "source": [
    "import numpy as np\n",
    "import pandas as pd \n",
    "import matplotlib.pyplot as plt\n",
    "import seaborn as sns"
   ]
  },
  {
   "cell_type": "code",
   "execution_count": 2,
   "id": "c0307594",
   "metadata": {
    "execution": {
     "iopub.execute_input": "2022-07-19T17:41:55.794214Z",
     "iopub.status.busy": "2022-07-19T17:41:55.793136Z",
     "iopub.status.idle": "2022-07-19T17:41:55.840215Z",
     "shell.execute_reply": "2022-07-19T17:41:55.839188Z"
    },
    "papermill": {
     "duration": 0.061602,
     "end_time": "2022-07-19T17:41:55.843047",
     "exception": false,
     "start_time": "2022-07-19T17:41:55.781445",
     "status": "completed"
    },
    "tags": []
   },
   "outputs": [
    {
     "data": {
      "text/html": [
       "<div>\n",
       "<style scoped>\n",
       "    .dataframe tbody tr th:only-of-type {\n",
       "        vertical-align: middle;\n",
       "    }\n",
       "\n",
       "    .dataframe tbody tr th {\n",
       "        vertical-align: top;\n",
       "    }\n",
       "\n",
       "    .dataframe thead th {\n",
       "        text-align: right;\n",
       "    }\n",
       "</style>\n",
       "<table border=\"1\" class=\"dataframe\">\n",
       "  <thead>\n",
       "    <tr style=\"text-align: right;\">\n",
       "      <th></th>\n",
       "      <th>GENDER</th>\n",
       "      <th>AGE</th>\n",
       "      <th>SMOKING</th>\n",
       "      <th>YELLOW_FINGERS</th>\n",
       "      <th>ANXIETY</th>\n",
       "      <th>PEER_PRESSURE</th>\n",
       "      <th>CHRONIC DISEASE</th>\n",
       "      <th>FATIGUE</th>\n",
       "      <th>ALLERGY</th>\n",
       "      <th>WHEEZING</th>\n",
       "      <th>ALCOHOL CONSUMING</th>\n",
       "      <th>COUGHING</th>\n",
       "      <th>SHORTNESS OF BREATH</th>\n",
       "      <th>SWALLOWING DIFFICULTY</th>\n",
       "      <th>CHEST PAIN</th>\n",
       "      <th>LUNG_CANCER</th>\n",
       "    </tr>\n",
       "  </thead>\n",
       "  <tbody>\n",
       "    <tr>\n",
       "      <th>0</th>\n",
       "      <td>M</td>\n",
       "      <td>69</td>\n",
       "      <td>1</td>\n",
       "      <td>2</td>\n",
       "      <td>2</td>\n",
       "      <td>1</td>\n",
       "      <td>1</td>\n",
       "      <td>2</td>\n",
       "      <td>1</td>\n",
       "      <td>2</td>\n",
       "      <td>2</td>\n",
       "      <td>2</td>\n",
       "      <td>2</td>\n",
       "      <td>2</td>\n",
       "      <td>2</td>\n",
       "      <td>YES</td>\n",
       "    </tr>\n",
       "    <tr>\n",
       "      <th>1</th>\n",
       "      <td>M</td>\n",
       "      <td>74</td>\n",
       "      <td>2</td>\n",
       "      <td>1</td>\n",
       "      <td>1</td>\n",
       "      <td>1</td>\n",
       "      <td>2</td>\n",
       "      <td>2</td>\n",
       "      <td>2</td>\n",
       "      <td>1</td>\n",
       "      <td>1</td>\n",
       "      <td>1</td>\n",
       "      <td>2</td>\n",
       "      <td>2</td>\n",
       "      <td>2</td>\n",
       "      <td>YES</td>\n",
       "    </tr>\n",
       "    <tr>\n",
       "      <th>2</th>\n",
       "      <td>F</td>\n",
       "      <td>59</td>\n",
       "      <td>1</td>\n",
       "      <td>1</td>\n",
       "      <td>1</td>\n",
       "      <td>2</td>\n",
       "      <td>1</td>\n",
       "      <td>2</td>\n",
       "      <td>1</td>\n",
       "      <td>2</td>\n",
       "      <td>1</td>\n",
       "      <td>2</td>\n",
       "      <td>2</td>\n",
       "      <td>1</td>\n",
       "      <td>2</td>\n",
       "      <td>NO</td>\n",
       "    </tr>\n",
       "    <tr>\n",
       "      <th>3</th>\n",
       "      <td>M</td>\n",
       "      <td>63</td>\n",
       "      <td>2</td>\n",
       "      <td>2</td>\n",
       "      <td>2</td>\n",
       "      <td>1</td>\n",
       "      <td>1</td>\n",
       "      <td>1</td>\n",
       "      <td>1</td>\n",
       "      <td>1</td>\n",
       "      <td>2</td>\n",
       "      <td>1</td>\n",
       "      <td>1</td>\n",
       "      <td>2</td>\n",
       "      <td>2</td>\n",
       "      <td>NO</td>\n",
       "    </tr>\n",
       "    <tr>\n",
       "      <th>4</th>\n",
       "      <td>F</td>\n",
       "      <td>63</td>\n",
       "      <td>1</td>\n",
       "      <td>2</td>\n",
       "      <td>1</td>\n",
       "      <td>1</td>\n",
       "      <td>1</td>\n",
       "      <td>1</td>\n",
       "      <td>1</td>\n",
       "      <td>2</td>\n",
       "      <td>1</td>\n",
       "      <td>2</td>\n",
       "      <td>2</td>\n",
       "      <td>1</td>\n",
       "      <td>1</td>\n",
       "      <td>NO</td>\n",
       "    </tr>\n",
       "  </tbody>\n",
       "</table>\n",
       "</div>"
      ],
      "text/plain": [
       "  GENDER  AGE  SMOKING  YELLOW_FINGERS  ANXIETY  PEER_PRESSURE  \\\n",
       "0      M   69        1               2        2              1   \n",
       "1      M   74        2               1        1              1   \n",
       "2      F   59        1               1        1              2   \n",
       "3      M   63        2               2        2              1   \n",
       "4      F   63        1               2        1              1   \n",
       "\n",
       "   CHRONIC DISEASE  FATIGUE   ALLERGY   WHEEZING  ALCOHOL CONSUMING  COUGHING  \\\n",
       "0                1         2         1         2                  2         2   \n",
       "1                2         2         2         1                  1         1   \n",
       "2                1         2         1         2                  1         2   \n",
       "3                1         1         1         1                  2         1   \n",
       "4                1         1         1         2                  1         2   \n",
       "\n",
       "   SHORTNESS OF BREATH  SWALLOWING DIFFICULTY  CHEST PAIN LUNG_CANCER  \n",
       "0                    2                      2           2         YES  \n",
       "1                    2                      2           2         YES  \n",
       "2                    2                      1           2          NO  \n",
       "3                    1                      2           2          NO  \n",
       "4                    2                      1           1          NO  "
      ]
     },
     "execution_count": 2,
     "metadata": {},
     "output_type": "execute_result"
    }
   ],
   "source": [
    "cancer_data = pd.read_csv(\"../input/lung-cancer/survey lung cancer.csv\")\n",
    "cancer_data.head()"
   ]
  },
  {
   "cell_type": "code",
   "execution_count": 3,
   "id": "ddb1ef89",
   "metadata": {
    "execution": {
     "iopub.execute_input": "2022-07-19T17:41:55.866631Z",
     "iopub.status.busy": "2022-07-19T17:41:55.866200Z",
     "iopub.status.idle": "2022-07-19T17:41:55.872648Z",
     "shell.execute_reply": "2022-07-19T17:41:55.871584Z"
    },
    "papermill": {
     "duration": 0.021176,
     "end_time": "2022-07-19T17:41:55.874813",
     "exception": false,
     "start_time": "2022-07-19T17:41:55.853637",
     "status": "completed"
    },
    "tags": []
   },
   "outputs": [
    {
     "data": {
      "text/plain": [
       "(309, 16)"
      ]
     },
     "execution_count": 3,
     "metadata": {},
     "output_type": "execute_result"
    }
   ],
   "source": [
    "cancer_data.shape"
   ]
  },
  {
   "cell_type": "markdown",
   "id": "c74b2221",
   "metadata": {
    "papermill": {
     "duration": 0.010116,
     "end_time": "2022-07-19T17:41:55.895429",
     "exception": false,
     "start_time": "2022-07-19T17:41:55.885313",
     "status": "completed"
    },
    "tags": []
   },
   "source": [
    "**The dataset contains 309 rows and 16 columns.**"
   ]
  },
  {
   "cell_type": "markdown",
   "id": "78ea4ea0",
   "metadata": {
    "papermill": {
     "duration": 0.010706,
     "end_time": "2022-07-19T17:41:55.916639",
     "exception": false,
     "start_time": "2022-07-19T17:41:55.905933",
     "status": "completed"
    },
    "tags": []
   },
   "source": [
    "# Data Cleaning"
   ]
  },
  {
   "cell_type": "code",
   "execution_count": 4,
   "id": "c9a62b96",
   "metadata": {
    "execution": {
     "iopub.execute_input": "2022-07-19T17:41:55.941699Z",
     "iopub.status.busy": "2022-07-19T17:41:55.940922Z",
     "iopub.status.idle": "2022-07-19T17:41:55.968986Z",
     "shell.execute_reply": "2022-07-19T17:41:55.968144Z"
    },
    "papermill": {
     "duration": 0.042907,
     "end_time": "2022-07-19T17:41:55.971550",
     "exception": false,
     "start_time": "2022-07-19T17:41:55.928643",
     "status": "completed"
    },
    "tags": []
   },
   "outputs": [
    {
     "name": "stdout",
     "output_type": "stream",
     "text": [
      "<class 'pandas.core.frame.DataFrame'>\n",
      "RangeIndex: 309 entries, 0 to 308\n",
      "Data columns (total 16 columns):\n",
      " #   Column                 Non-Null Count  Dtype \n",
      "---  ------                 --------------  ----- \n",
      " 0   GENDER                 309 non-null    object\n",
      " 1   AGE                    309 non-null    int64 \n",
      " 2   SMOKING                309 non-null    int64 \n",
      " 3   YELLOW_FINGERS         309 non-null    int64 \n",
      " 4   ANXIETY                309 non-null    int64 \n",
      " 5   PEER_PRESSURE          309 non-null    int64 \n",
      " 6   CHRONIC DISEASE        309 non-null    int64 \n",
      " 7   FATIGUE                309 non-null    int64 \n",
      " 8   ALLERGY                309 non-null    int64 \n",
      " 9   WHEEZING               309 non-null    int64 \n",
      " 10  ALCOHOL CONSUMING      309 non-null    int64 \n",
      " 11  COUGHING               309 non-null    int64 \n",
      " 12  SHORTNESS OF BREATH    309 non-null    int64 \n",
      " 13  SWALLOWING DIFFICULTY  309 non-null    int64 \n",
      " 14  CHEST PAIN             309 non-null    int64 \n",
      " 15  LUNG_CANCER            309 non-null    object\n",
      "dtypes: int64(14), object(2)\n",
      "memory usage: 38.8+ KB\n"
     ]
    }
   ],
   "source": [
    "cancer_data.info()"
   ]
  },
  {
   "cell_type": "markdown",
   "id": "2e26376c",
   "metadata": {
    "papermill": {
     "duration": 0.011428,
     "end_time": "2022-07-19T17:41:55.993899",
     "exception": false,
     "start_time": "2022-07-19T17:41:55.982471",
     "status": "completed"
    },
    "tags": []
   },
   "source": [
    "**Looking at the dataset and datatypes, we can see that only two of the columns are object types (categorical variables), rest are all integer types containing values 1 and 2, where 1 = No and 2 = Yes.**"
   ]
  },
  {
   "cell_type": "code",
   "execution_count": 5,
   "id": "682ff719",
   "metadata": {
    "execution": {
     "iopub.execute_input": "2022-07-19T17:41:56.019669Z",
     "iopub.status.busy": "2022-07-19T17:41:56.018817Z",
     "iopub.status.idle": "2022-07-19T17:41:56.027893Z",
     "shell.execute_reply": "2022-07-19T17:41:56.027045Z"
    },
    "papermill": {
     "duration": 0.024465,
     "end_time": "2022-07-19T17:41:56.030232",
     "exception": false,
     "start_time": "2022-07-19T17:41:56.005767",
     "status": "completed"
    },
    "tags": []
   },
   "outputs": [
    {
     "data": {
      "text/plain": [
       "GENDER                   0\n",
       "AGE                      0\n",
       "SMOKING                  0\n",
       "YELLOW_FINGERS           0\n",
       "ANXIETY                  0\n",
       "PEER_PRESSURE            0\n",
       "CHRONIC DISEASE          0\n",
       "FATIGUE                  0\n",
       "ALLERGY                  0\n",
       "WHEEZING                 0\n",
       "ALCOHOL CONSUMING        0\n",
       "COUGHING                 0\n",
       "SHORTNESS OF BREATH      0\n",
       "SWALLOWING DIFFICULTY    0\n",
       "CHEST PAIN               0\n",
       "LUNG_CANCER              0\n",
       "dtype: int64"
      ]
     },
     "execution_count": 5,
     "metadata": {},
     "output_type": "execute_result"
    }
   ],
   "source": [
    "cancer_data.isnull().sum()"
   ]
  },
  {
   "cell_type": "markdown",
   "id": "eb20b6c0",
   "metadata": {
    "papermill": {
     "duration": 0.010621,
     "end_time": "2022-07-19T17:41:56.051667",
     "exception": false,
     "start_time": "2022-07-19T17:41:56.041046",
     "status": "completed"
    },
    "tags": []
   },
   "source": [
    "**Fortunately, there are no missing values in this dataset.**"
   ]
  },
  {
   "cell_type": "code",
   "execution_count": 6,
   "id": "6715ffd7",
   "metadata": {
    "execution": {
     "iopub.execute_input": "2022-07-19T17:41:56.077098Z",
     "iopub.status.busy": "2022-07-19T17:41:56.076323Z",
     "iopub.status.idle": "2022-07-19T17:41:56.083524Z",
     "shell.execute_reply": "2022-07-19T17:41:56.082602Z"
    },
    "papermill": {
     "duration": 0.021941,
     "end_time": "2022-07-19T17:41:56.086085",
     "exception": false,
     "start_time": "2022-07-19T17:41:56.064144",
     "status": "completed"
    },
    "tags": []
   },
   "outputs": [],
   "source": [
    "# First, we will change the data types of the categorical variables \n",
    "cancer_data['LUNG_CANCER'] = cancer_data['LUNG_CANCER'].factorize(['NO','YES'])[0]\n",
    "cancer_data['GENDER'] = cancer_data['GENDER'].factorize(['NO','YES'])[0]"
   ]
  },
  {
   "cell_type": "code",
   "execution_count": 7,
   "id": "f5bb3028",
   "metadata": {
    "execution": {
     "iopub.execute_input": "2022-07-19T17:41:56.110388Z",
     "iopub.status.busy": "2022-07-19T17:41:56.109596Z",
     "iopub.status.idle": "2022-07-19T17:41:56.125112Z",
     "shell.execute_reply": "2022-07-19T17:41:56.123761Z"
    },
    "papermill": {
     "duration": 0.030851,
     "end_time": "2022-07-19T17:41:56.127695",
     "exception": false,
     "start_time": "2022-07-19T17:41:56.096844",
     "status": "completed"
    },
    "tags": []
   },
   "outputs": [
    {
     "data": {
      "text/html": [
       "<div>\n",
       "<style scoped>\n",
       "    .dataframe tbody tr th:only-of-type {\n",
       "        vertical-align: middle;\n",
       "    }\n",
       "\n",
       "    .dataframe tbody tr th {\n",
       "        vertical-align: top;\n",
       "    }\n",
       "\n",
       "    .dataframe thead th {\n",
       "        text-align: right;\n",
       "    }\n",
       "</style>\n",
       "<table border=\"1\" class=\"dataframe\">\n",
       "  <thead>\n",
       "    <tr style=\"text-align: right;\">\n",
       "      <th></th>\n",
       "      <th>GENDER</th>\n",
       "      <th>AGE</th>\n",
       "      <th>SMOKING</th>\n",
       "      <th>YELLOW_FINGERS</th>\n",
       "      <th>ANXIETY</th>\n",
       "      <th>PEER_PRESSURE</th>\n",
       "      <th>CHRONIC DISEASE</th>\n",
       "      <th>FATIGUE</th>\n",
       "      <th>ALLERGY</th>\n",
       "      <th>WHEEZING</th>\n",
       "      <th>ALCOHOL CONSUMING</th>\n",
       "      <th>COUGHING</th>\n",
       "      <th>SHORTNESS OF BREATH</th>\n",
       "      <th>SWALLOWING DIFFICULTY</th>\n",
       "      <th>CHEST PAIN</th>\n",
       "      <th>LUNG_CANCER</th>\n",
       "    </tr>\n",
       "  </thead>\n",
       "  <tbody>\n",
       "    <tr>\n",
       "      <th>0</th>\n",
       "      <td>1</td>\n",
       "      <td>69</td>\n",
       "      <td>1</td>\n",
       "      <td>2</td>\n",
       "      <td>2</td>\n",
       "      <td>1</td>\n",
       "      <td>1</td>\n",
       "      <td>2</td>\n",
       "      <td>1</td>\n",
       "      <td>2</td>\n",
       "      <td>2</td>\n",
       "      <td>2</td>\n",
       "      <td>2</td>\n",
       "      <td>2</td>\n",
       "      <td>2</td>\n",
       "      <td>1</td>\n",
       "    </tr>\n",
       "    <tr>\n",
       "      <th>1</th>\n",
       "      <td>1</td>\n",
       "      <td>74</td>\n",
       "      <td>2</td>\n",
       "      <td>1</td>\n",
       "      <td>1</td>\n",
       "      <td>1</td>\n",
       "      <td>2</td>\n",
       "      <td>2</td>\n",
       "      <td>2</td>\n",
       "      <td>1</td>\n",
       "      <td>1</td>\n",
       "      <td>1</td>\n",
       "      <td>2</td>\n",
       "      <td>2</td>\n",
       "      <td>2</td>\n",
       "      <td>1</td>\n",
       "    </tr>\n",
       "    <tr>\n",
       "      <th>2</th>\n",
       "      <td>0</td>\n",
       "      <td>59</td>\n",
       "      <td>1</td>\n",
       "      <td>1</td>\n",
       "      <td>1</td>\n",
       "      <td>2</td>\n",
       "      <td>1</td>\n",
       "      <td>2</td>\n",
       "      <td>1</td>\n",
       "      <td>2</td>\n",
       "      <td>1</td>\n",
       "      <td>2</td>\n",
       "      <td>2</td>\n",
       "      <td>1</td>\n",
       "      <td>2</td>\n",
       "      <td>0</td>\n",
       "    </tr>\n",
       "    <tr>\n",
       "      <th>3</th>\n",
       "      <td>1</td>\n",
       "      <td>63</td>\n",
       "      <td>2</td>\n",
       "      <td>2</td>\n",
       "      <td>2</td>\n",
       "      <td>1</td>\n",
       "      <td>1</td>\n",
       "      <td>1</td>\n",
       "      <td>1</td>\n",
       "      <td>1</td>\n",
       "      <td>2</td>\n",
       "      <td>1</td>\n",
       "      <td>1</td>\n",
       "      <td>2</td>\n",
       "      <td>2</td>\n",
       "      <td>0</td>\n",
       "    </tr>\n",
       "    <tr>\n",
       "      <th>4</th>\n",
       "      <td>0</td>\n",
       "      <td>63</td>\n",
       "      <td>1</td>\n",
       "      <td>2</td>\n",
       "      <td>1</td>\n",
       "      <td>1</td>\n",
       "      <td>1</td>\n",
       "      <td>1</td>\n",
       "      <td>1</td>\n",
       "      <td>2</td>\n",
       "      <td>1</td>\n",
       "      <td>2</td>\n",
       "      <td>2</td>\n",
       "      <td>1</td>\n",
       "      <td>1</td>\n",
       "      <td>0</td>\n",
       "    </tr>\n",
       "  </tbody>\n",
       "</table>\n",
       "</div>"
      ],
      "text/plain": [
       "   GENDER  AGE  SMOKING  YELLOW_FINGERS  ANXIETY  PEER_PRESSURE  \\\n",
       "0       1   69        1               2        2              1   \n",
       "1       1   74        2               1        1              1   \n",
       "2       0   59        1               1        1              2   \n",
       "3       1   63        2               2        2              1   \n",
       "4       0   63        1               2        1              1   \n",
       "\n",
       "   CHRONIC DISEASE  FATIGUE   ALLERGY   WHEEZING  ALCOHOL CONSUMING  COUGHING  \\\n",
       "0                1         2         1         2                  2         2   \n",
       "1                2         2         2         1                  1         1   \n",
       "2                1         2         1         2                  1         2   \n",
       "3                1         1         1         1                  2         1   \n",
       "4                1         1         1         2                  1         2   \n",
       "\n",
       "   SHORTNESS OF BREATH  SWALLOWING DIFFICULTY  CHEST PAIN  LUNG_CANCER  \n",
       "0                    2                      2           2            1  \n",
       "1                    2                      2           2            1  \n",
       "2                    2                      1           2            0  \n",
       "3                    1                      2           2            0  \n",
       "4                    2                      1           1            0  "
      ]
     },
     "execution_count": 7,
     "metadata": {},
     "output_type": "execute_result"
    }
   ],
   "source": [
    "cancer_data.head()"
   ]
  },
  {
   "cell_type": "markdown",
   "id": "5f10dc4d",
   "metadata": {
    "papermill": {
     "duration": 0.011108,
     "end_time": "2022-07-19T17:41:56.150073",
     "exception": false,
     "start_time": "2022-07-19T17:41:56.138965",
     "status": "completed"
    },
    "tags": []
   },
   "source": [
    "**Male = 1 Female = 0**              \n",
    "**Yes = 1 No = 0**"
   ]
  },
  {
   "cell_type": "markdown",
   "id": "beca52bf",
   "metadata": {
    "papermill": {
     "duration": 0.010996,
     "end_time": "2022-07-19T17:41:56.171952",
     "exception": false,
     "start_time": "2022-07-19T17:41:56.160956",
     "status": "completed"
    },
    "tags": []
   },
   "source": [
    "# Exploratory Data Analysis"
   ]
  },
  {
   "cell_type": "code",
   "execution_count": 8,
   "id": "bdf0fa93",
   "metadata": {
    "execution": {
     "iopub.execute_input": "2022-07-19T17:41:56.196746Z",
     "iopub.status.busy": "2022-07-19T17:41:56.195967Z",
     "iopub.status.idle": "2022-07-19T17:41:57.538753Z",
     "shell.execute_reply": "2022-07-19T17:41:57.537247Z"
    },
    "papermill": {
     "duration": 1.359124,
     "end_time": "2022-07-19T17:41:57.542403",
     "exception": false,
     "start_time": "2022-07-19T17:41:56.183279",
     "status": "completed"
    },
    "tags": []
   },
   "outputs": [
    {
     "data": {
      "text/plain": [
       "<AxesSubplot:>"
      ]
     },
     "execution_count": 8,
     "metadata": {},
     "output_type": "execute_result"
    },
    {
     "data": {
      "image/png": "[encoded data removed]",
      "text/plain": [
       "<Figure size 864x864 with 2 Axes>"
      ]
     },
     "metadata": {
      "needs_background": "light"
     },
     "output_type": "display_data"
    }
   ],
   "source": [
    "# We can use a heatmap to check correlation between the variables.\n",
    "\n",
    "corr = cancer_data.corr()\n",
    "plt.figure(figsize=(12,12))\n",
    "sns.heatmap(corr,cbar=True,square=True,fmt='.1f',annot=True,cmap='Reds')"
   ]
  },
  {
   "cell_type": "markdown",
   "id": "bbdbf3f1",
   "metadata": {
    "papermill": {
     "duration": 0.013242,
     "end_time": "2022-07-19T17:41:57.569023",
     "exception": false,
     "start_time": "2022-07-19T17:41:57.555781",
     "status": "completed"
    },
    "tags": []
   },
   "source": [
    "**There aren't a lot of strong correlations among the different features except maybe some minor ones such as:**\n",
    "\n",
    "* More anxiety leads to more difficulty in breathing\n",
    "* More anxiety causes yellow fingers or it could be vice versa as any kind of changes in body may lead to increased anxiety\n",
    "* Shortness of breath causes fatigue\n",
    "* Increased anxiety makes it more difficult to swallow\n",
    "\n",
    "**However, there isn't a lot of correlation between the symptoms and the target variable and this could be because of the type of data or surveyors.**"
   ]
  },
  {
   "cell_type": "code",
   "execution_count": 9,
   "id": "5970b991",
   "metadata": {
    "execution": {
     "iopub.execute_input": "2022-07-19T17:41:57.598434Z",
     "iopub.status.busy": "2022-07-19T17:41:57.597373Z",
     "iopub.status.idle": "2022-07-19T17:41:57.631914Z",
     "shell.execute_reply": "2022-07-19T17:41:57.630840Z"
    },
    "papermill": {
     "duration": 0.051814,
     "end_time": "2022-07-19T17:41:57.634397",
     "exception": false,
     "start_time": "2022-07-19T17:41:57.582583",
     "status": "completed"
    },
    "tags": []
   },
   "outputs": [
    {
     "data": {
      "text/html": [
       "<div>\n",
       "<style scoped>\n",
       "    .dataframe tbody tr th:only-of-type {\n",
       "        vertical-align: middle;\n",
       "    }\n",
       "\n",
       "    .dataframe tbody tr th {\n",
       "        vertical-align: top;\n",
       "    }\n",
       "\n",
       "    .dataframe thead th {\n",
       "        text-align: right;\n",
       "    }\n",
       "</style>\n",
       "<table border=\"1\" class=\"dataframe\">\n",
       "  <thead>\n",
       "    <tr style=\"text-align: right;\">\n",
       "      <th></th>\n",
       "      <th>GENDER</th>\n",
       "      <th>AGE</th>\n",
       "      <th>SMOKING</th>\n",
       "      <th>YELLOW_FINGERS</th>\n",
       "      <th>ANXIETY</th>\n",
       "      <th>PEER_PRESSURE</th>\n",
       "      <th>CHRONIC DISEASE</th>\n",
       "      <th>FATIGUE</th>\n",
       "      <th>ALLERGY</th>\n",
       "      <th>WHEEZING</th>\n",
       "      <th>ALCOHOL CONSUMING</th>\n",
       "      <th>COUGHING</th>\n",
       "      <th>SHORTNESS OF BREATH</th>\n",
       "      <th>SWALLOWING DIFFICULTY</th>\n",
       "      <th>CHEST PAIN</th>\n",
       "      <th>LUNG_CANCER</th>\n",
       "    </tr>\n",
       "  </thead>\n",
       "  <tbody>\n",
       "    <tr>\n",
       "      <th>0</th>\n",
       "      <td>Male</td>\n",
       "      <td>69</td>\n",
       "      <td>No</td>\n",
       "      <td>Yes</td>\n",
       "      <td>Yes</td>\n",
       "      <td>No</td>\n",
       "      <td>No</td>\n",
       "      <td>Yes</td>\n",
       "      <td>No</td>\n",
       "      <td>Yes</td>\n",
       "      <td>Yes</td>\n",
       "      <td>Yes</td>\n",
       "      <td>Yes</td>\n",
       "      <td>Yes</td>\n",
       "      <td>Yes</td>\n",
       "      <td>Yes</td>\n",
       "    </tr>\n",
       "    <tr>\n",
       "      <th>1</th>\n",
       "      <td>Male</td>\n",
       "      <td>74</td>\n",
       "      <td>Yes</td>\n",
       "      <td>No</td>\n",
       "      <td>No</td>\n",
       "      <td>No</td>\n",
       "      <td>Yes</td>\n",
       "      <td>Yes</td>\n",
       "      <td>Yes</td>\n",
       "      <td>No</td>\n",
       "      <td>No</td>\n",
       "      <td>No</td>\n",
       "      <td>Yes</td>\n",
       "      <td>Yes</td>\n",
       "      <td>Yes</td>\n",
       "      <td>Yes</td>\n",
       "    </tr>\n",
       "    <tr>\n",
       "      <th>2</th>\n",
       "      <td>Female</td>\n",
       "      <td>59</td>\n",
       "      <td>No</td>\n",
       "      <td>No</td>\n",
       "      <td>No</td>\n",
       "      <td>Yes</td>\n",
       "      <td>No</td>\n",
       "      <td>Yes</td>\n",
       "      <td>No</td>\n",
       "      <td>Yes</td>\n",
       "      <td>No</td>\n",
       "      <td>Yes</td>\n",
       "      <td>Yes</td>\n",
       "      <td>No</td>\n",
       "      <td>Yes</td>\n",
       "      <td>No</td>\n",
       "    </tr>\n",
       "    <tr>\n",
       "      <th>3</th>\n",
       "      <td>Male</td>\n",
       "      <td>63</td>\n",
       "      <td>Yes</td>\n",
       "      <td>Yes</td>\n",
       "      <td>Yes</td>\n",
       "      <td>No</td>\n",
       "      <td>No</td>\n",
       "      <td>No</td>\n",
       "      <td>No</td>\n",
       "      <td>No</td>\n",
       "      <td>Yes</td>\n",
       "      <td>No</td>\n",
       "      <td>No</td>\n",
       "      <td>Yes</td>\n",
       "      <td>Yes</td>\n",
       "      <td>No</td>\n",
       "    </tr>\n",
       "    <tr>\n",
       "      <th>4</th>\n",
       "      <td>Female</td>\n",
       "      <td>63</td>\n",
       "      <td>No</td>\n",
       "      <td>Yes</td>\n",
       "      <td>No</td>\n",
       "      <td>No</td>\n",
       "      <td>No</td>\n",
       "      <td>No</td>\n",
       "      <td>No</td>\n",
       "      <td>Yes</td>\n",
       "      <td>No</td>\n",
       "      <td>Yes</td>\n",
       "      <td>Yes</td>\n",
       "      <td>No</td>\n",
       "      <td>No</td>\n",
       "      <td>No</td>\n",
       "    </tr>\n",
       "  </tbody>\n",
       "</table>\n",
       "</div>"
      ],
      "text/plain": [
       "   GENDER  AGE SMOKING YELLOW_FINGERS ANXIETY PEER_PRESSURE CHRONIC DISEASE  \\\n",
       "0    Male   69      No            Yes     Yes            No              No   \n",
       "1    Male   74     Yes             No      No            No             Yes   \n",
       "2  Female   59      No             No      No           Yes              No   \n",
       "3    Male   63     Yes            Yes     Yes            No              No   \n",
       "4  Female   63      No            Yes      No            No              No   \n",
       "\n",
       "  FATIGUE  ALLERGY  WHEEZING ALCOHOL CONSUMING COUGHING SHORTNESS OF BREATH  \\\n",
       "0      Yes       No      Yes               Yes      Yes                 Yes   \n",
       "1      Yes      Yes       No                No       No                 Yes   \n",
       "2      Yes       No      Yes                No      Yes                 Yes   \n",
       "3       No       No       No               Yes       No                  No   \n",
       "4       No       No      Yes                No      Yes                 Yes   \n",
       "\n",
       "  SWALLOWING DIFFICULTY CHEST PAIN LUNG_CANCER  \n",
       "0                   Yes        Yes         Yes  \n",
       "1                   Yes        Yes         Yes  \n",
       "2                    No        Yes          No  \n",
       "3                   Yes        Yes          No  \n",
       "4                    No         No          No  "
      ]
     },
     "execution_count": 9,
     "metadata": {},
     "output_type": "execute_result"
    }
   ],
   "source": [
    "# Now we will rename the 1s and 2s to No and Yes so it is easier to understand\n",
    "cancer_data[\"GENDER\"] = cancer_data[\"GENDER\"].replace({1:\"Male\", 0:\"Female\"})\n",
    "cancer_data[\"LUNG_CANCER\"] = cancer_data[\"LUNG_CANCER\"].replace({1:\"Yes\", 0:\"No\"})\n",
    "for column in cancer_data.columns:\n",
    "    cancer_data[column] = cancer_data[column].replace({1: \"No\", 2: \"Yes\"})\n",
    "    \n",
    "cancer_data.head()"
   ]
  },
  {
   "cell_type": "code",
   "execution_count": 10,
   "id": "ec58242b",
   "metadata": {
    "execution": {
     "iopub.execute_input": "2022-07-19T17:41:57.662417Z",
     "iopub.status.busy": "2022-07-19T17:41:57.662016Z",
     "iopub.status.idle": "2022-07-19T17:41:57.842357Z",
     "shell.execute_reply": "2022-07-19T17:41:57.841092Z"
    },
    "papermill": {
     "duration": 0.197402,
     "end_time": "2022-07-19T17:41:57.845025",
     "exception": false,
     "start_time": "2022-07-19T17:41:57.647623",
     "status": "completed"
    },
    "tags": []
   },
   "outputs": [
    {
     "data": {
      "text/plain": [
       "<AxesSubplot:xlabel='SMOKING', ylabel='count'>"
      ]
     },
     "execution_count": 10,
     "metadata": {},
     "output_type": "execute_result"
    },
    {
     "data": {
      "image/png": "[encoded data removed]",
      "text/plain": [
       "<Figure size 720x720 with 1 Axes>"
      ]
     },
     "metadata": {
      "needs_background": "light"
     },
     "output_type": "display_data"
    }
   ],
   "source": [
    "# Smokers count\n",
    "plt.figure(figsize=(10,10))\n",
    "sns.countplot(x=\"SMOKING\", data=cancer_data)"
   ]
  },
  {
   "cell_type": "markdown",
   "id": "232b0899",
   "metadata": {
    "papermill": {
     "duration": 0.013623,
     "end_time": "2022-07-19T17:41:57.872286",
     "exception": false,
     "start_time": "2022-07-19T17:41:57.858663",
     "status": "completed"
    },
    "tags": []
   },
   "source": [
    "**More smokers in the dataset compared to non smokers.**"
   ]
  },
  {
   "cell_type": "code",
   "execution_count": 11,
   "id": "b5047a5e",
   "metadata": {
    "execution": {
     "iopub.execute_input": "2022-07-19T17:41:57.901731Z",
     "iopub.status.busy": "2022-07-19T17:41:57.901315Z",
     "iopub.status.idle": "2022-07-19T17:41:58.058885Z",
     "shell.execute_reply": "2022-07-19T17:41:58.057403Z"
    },
    "papermill": {
     "duration": 0.177261,
     "end_time": "2022-07-19T17:41:58.063436",
     "exception": false,
     "start_time": "2022-07-19T17:41:57.886175",
     "status": "completed"
    },
    "tags": []
   },
   "outputs": [
    {
     "data": {
      "text/plain": [
       "<AxesSubplot:ylabel='LUNG_CANCER'>"
      ]
     },
     "execution_count": 11,
     "metadata": {},
     "output_type": "execute_result"
    },
    {
     "data": {
      "image/png": "[encoded data removed]",
      "text/plain": [
       "<Figure size 576x576 with 1 Axes>"
      ]
     },
     "metadata": {},
     "output_type": "display_data"
    }
   ],
   "source": [
    "# Percentage of people with lung cancer in the dataset\n",
    "\n",
    "# 100. * cancer_data.LUNG_CANCER.value_counts() / len(cancer_data.LUNG_CANCER)\n",
    "cancer_data.LUNG_CANCER.value_counts().plot(kind='pie',figsize=(8, 8),autopct='%1.1f%%')"
   ]
  },
  {
   "cell_type": "code",
   "execution_count": 12,
   "id": "01f5c820",
   "metadata": {
    "execution": {
     "iopub.execute_input": "2022-07-19T17:41:58.118530Z",
     "iopub.status.busy": "2022-07-19T17:41:58.116943Z",
     "iopub.status.idle": "2022-07-19T17:41:58.129113Z",
     "shell.execute_reply": "2022-07-19T17:41:58.128136Z"
    },
    "papermill": {
     "duration": 0.042023,
     "end_time": "2022-07-19T17:41:58.131517",
     "exception": false,
     "start_time": "2022-07-19T17:41:58.089494",
     "status": "completed"
    },
    "tags": []
   },
   "outputs": [
    {
     "data": {
      "text/plain": [
       "Yes    87.378641\n",
       "No     12.621359\n",
       "Name: LUNG_CANCER, dtype: float64"
      ]
     },
     "execution_count": 12,
     "metadata": {},
     "output_type": "execute_result"
    }
   ],
   "source": [
    "100. * cancer_data.LUNG_CANCER.value_counts() / len(cancer_data.LUNG_CANCER)"
   ]
  },
  {
   "cell_type": "markdown",
   "id": "ffb9a159",
   "metadata": {
    "papermill": {
     "duration": 0.014034,
     "end_time": "2022-07-19T17:41:58.159705",
     "exception": false,
     "start_time": "2022-07-19T17:41:58.145671",
     "status": "completed"
    },
    "tags": []
   },
   "source": [
    "**More than 87% of the surveyors were diagnosed with lung cancer. Only the other ~ 13% were not.**"
   ]
  },
  {
   "cell_type": "code",
   "execution_count": 13,
   "id": "562fe215",
   "metadata": {
    "execution": {
     "iopub.execute_input": "2022-07-19T17:41:58.190875Z",
     "iopub.status.busy": "2022-07-19T17:41:58.190027Z",
     "iopub.status.idle": "2022-07-19T17:41:58.452595Z",
     "shell.execute_reply": "2022-07-19T17:41:58.451357Z"
    },
    "papermill": {
     "duration": 0.281008,
     "end_time": "2022-07-19T17:41:58.455183",
     "exception": false,
     "start_time": "2022-07-19T17:41:58.174175",
     "status": "completed"
    },
    "tags": []
   },
   "outputs": [
    {
     "data": {
      "text/plain": [
       "<AxesSubplot:xlabel='AGE', ylabel='Count'>"
      ]
     },
     "execution_count": 13,
     "metadata": {},
     "output_type": "execute_result"
    },
    {
     "data": {
      "image/png": "[encoded data removed]",
      "text/plain": [
       "<Figure size 864x864 with 1 Axes>"
      ]
     },
     "metadata": {
      "needs_background": "light"
     },
     "output_type": "display_data"
    }
   ],
   "source": [
    "plt.figure(figsize = (12,12))\n",
    "sns.histplot(cancer_data['AGE'])"
   ]
  },
  {
   "cell_type": "markdown",
   "id": "dbb766fc",
   "metadata": {
    "papermill": {
     "duration": 0.014514,
     "end_time": "2022-07-19T17:41:58.484608",
     "exception": false,
     "start_time": "2022-07-19T17:41:58.470094",
     "status": "completed"
    },
    "tags": []
   },
   "source": [
    "**Most of the surveyors were in the age category of 50-70.**"
   ]
  },
  {
   "cell_type": "code",
   "execution_count": 14,
   "id": "9eaade1d",
   "metadata": {
    "execution": {
     "iopub.execute_input": "2022-07-19T17:41:58.516303Z",
     "iopub.status.busy": "2022-07-19T17:41:58.515868Z",
     "iopub.status.idle": "2022-07-19T17:41:58.524829Z",
     "shell.execute_reply": "2022-07-19T17:41:58.524020Z"
    },
    "papermill": {
     "duration": 0.027629,
     "end_time": "2022-07-19T17:41:58.527087",
     "exception": false,
     "start_time": "2022-07-19T17:41:58.499458",
     "status": "completed"
    },
    "tags": []
   },
   "outputs": [
    {
     "data": {
      "text/plain": [
       "Male      162\n",
       "Female    147\n",
       "Name: GENDER, dtype: int64"
      ]
     },
     "execution_count": 14,
     "metadata": {},
     "output_type": "execute_result"
    }
   ],
   "source": [
    "cancer_data.GENDER.value_counts()"
   ]
  },
  {
   "cell_type": "code",
   "execution_count": 15,
   "id": "fe949fd0",
   "metadata": {
    "execution": {
     "iopub.execute_input": "2022-07-19T17:41:58.559693Z",
     "iopub.status.busy": "2022-07-19T17:41:58.559274Z",
     "iopub.status.idle": "2022-07-19T17:41:58.741748Z",
     "shell.execute_reply": "2022-07-19T17:41:58.740615Z"
    },
    "papermill": {
     "duration": 0.201675,
     "end_time": "2022-07-19T17:41:58.744174",
     "exception": false,
     "start_time": "2022-07-19T17:41:58.542499",
     "status": "completed"
    },
    "tags": []
   },
   "outputs": [
    {
     "data": {
      "text/plain": [
       "<AxesSubplot:xlabel='GENDER', ylabel='count'>"
      ]
     },
     "execution_count": 15,
     "metadata": {},
     "output_type": "execute_result"
    },
    {
     "data": {
      "image/png": "[encoded data removed]",
      "text/plain": [
       "<Figure size 720x720 with 1 Axes>"
      ]
     },
     "metadata": {
      "needs_background": "light"
     },
     "output_type": "display_data"
    }
   ],
   "source": [
    "plt.figure(figsize=(10,10))\n",
    "sns.countplot(x=\"GENDER\", data=cancer_data)"
   ]
  },
  {
   "cell_type": "markdown",
   "id": "63393da7",
   "metadata": {
    "papermill": {
     "duration": 0.014813,
     "end_time": "2022-07-19T17:41:58.773899",
     "exception": false,
     "start_time": "2022-07-19T17:41:58.759086",
     "status": "completed"
    },
    "tags": []
   },
   "source": [
    "**Most of the surveyors were male but the difference between number of males and females is not too much.**"
   ]
  },
  {
   "cell_type": "code",
   "execution_count": 16,
   "id": "02c33f00",
   "metadata": {
    "execution": {
     "iopub.execute_input": "2022-07-19T17:41:58.806551Z",
     "iopub.status.busy": "2022-07-19T17:41:58.806134Z",
     "iopub.status.idle": "2022-07-19T17:41:59.014423Z",
     "shell.execute_reply": "2022-07-19T17:41:59.013510Z"
    },
    "papermill": {
     "duration": 0.227584,
     "end_time": "2022-07-19T17:41:59.016841",
     "exception": false,
     "start_time": "2022-07-19T17:41:58.789257",
     "status": "completed"
    },
    "tags": []
   },
   "outputs": [
    {
     "data": {
      "text/plain": [
       "<matplotlib.legend.Legend at 0x7f48a9f36c10>"
      ]
     },
     "execution_count": 16,
     "metadata": {},
     "output_type": "execute_result"
    },
    {
     "data": {
      "image/png": "[encoded data removed]",
      "text/plain": [
       "<Figure size 720x720 with 1 Axes>"
      ]
     },
     "metadata": {
      "needs_background": "light"
     },
     "output_type": "display_data"
    }
   ],
   "source": [
    "# Lung Cancer across Genders\n",
    "plt.figure(figsize=(10,10))\n",
    "sns.countplot(data=cancer_data,x='GENDER',hue='LUNG_CANCER')\n",
    "plt.legend([\"Has cancer\", 'Does not have cancer'])"
   ]
  },
  {
   "cell_type": "markdown",
   "id": "950d479a",
   "metadata": {
    "papermill": {
     "duration": 0.015058,
     "end_time": "2022-07-19T17:41:59.047148",
     "exception": false,
     "start_time": "2022-07-19T17:41:59.032090",
     "status": "completed"
    },
    "tags": []
   },
   "source": [
    "**For both males and females, majority of the surveyors had cancer.**"
   ]
  },
  {
   "cell_type": "code",
   "execution_count": 17,
   "id": "878c13f8",
   "metadata": {
    "execution": {
     "iopub.execute_input": "2022-07-19T17:41:59.080474Z",
     "iopub.status.busy": "2022-07-19T17:41:59.079657Z",
     "iopub.status.idle": "2022-07-19T17:42:00.395578Z",
     "shell.execute_reply": "2022-07-19T17:42:00.394293Z"
    },
    "papermill": {
     "duration": 1.335558,
     "end_time": "2022-07-19T17:42:00.398279",
     "exception": false,
     "start_time": "2022-07-19T17:41:59.062721",
     "status": "completed"
    },
    "tags": []
   },
   "outputs": [
    {
     "data": {
      "image/png": "[encoded data removed]",
      "text/plain": [
       "<Figure size 1152x1728 with 12 Axes>"
      ]
     },
     "metadata": {
      "needs_background": "light"
     },
     "output_type": "display_data"
    }
   ],
   "source": [
    "X = ['YELLOW_FINGERS', 'ANXIETY','PEER_PRESSURE', 'CHRONIC DISEASE', 'FATIGUE ', 'ALLERGY ', 'WHEEZING','ALCOHOL CONSUMING', 'COUGHING', 'SHORTNESS OF BREATH',  'SWALLOWING DIFFICULTY', 'CHEST PAIN']\n",
    "fig, ax = plt.subplots(nrows = 4, ncols = 3) # 16 subplots\n",
    "fig.set_size_inches(16,24) # set figure size\n",
    "\n",
    "for i in range(4):\n",
    "    for j in range(3):\n",
    "        sns.countplot(x = cancer_data[X[3 * i + j]] , ax = ax[i][j]) # count plot"
   ]
  },
  {
   "cell_type": "markdown",
   "id": "987e514f",
   "metadata": {
    "papermill": {
     "duration": 0.016513,
     "end_time": "2022-07-19T17:42:00.432157",
     "exception": false,
     "start_time": "2022-07-19T17:42:00.415644",
     "status": "completed"
    },
    "tags": []
   },
   "source": [
    "**After plotting multiple countplots for the different features, we can see that most surveyors said yes to having symptoms such as yellow fingers, coughing, fatigue, shortness of breath and chest pain meaning these are the primary/more crucial symptoms that people should look out for as they may be at risk of having cancer.**"
   ]
  },
  {
   "cell_type": "markdown",
   "id": "b62ac8d7",
   "metadata": {
    "papermill": {
     "duration": 0.016094,
     "end_time": "2022-07-19T17:42:00.464783",
     "exception": false,
     "start_time": "2022-07-19T17:42:00.448689",
     "status": "completed"
    },
    "tags": []
   },
   "source": [
    "**Let's analyze the likeliness of having the symptoms a little more.**"
   ]
  },
  {
   "cell_type": "code",
   "execution_count": 18,
   "id": "a04b981e",
   "metadata": {
    "execution": {
     "iopub.execute_input": "2022-07-19T17:42:00.500269Z",
     "iopub.status.busy": "2022-07-19T17:42:00.499592Z",
     "iopub.status.idle": "2022-07-19T17:42:00.694514Z",
     "shell.execute_reply": "2022-07-19T17:42:00.693641Z"
    },
    "papermill": {
     "duration": 0.215239,
     "end_time": "2022-07-19T17:42:00.697022",
     "exception": false,
     "start_time": "2022-07-19T17:42:00.481783",
     "status": "completed"
    },
    "tags": []
   },
   "outputs": [
    {
     "data": {
      "text/plain": [
       "<matplotlib.legend.Legend at 0x7f48a3e85bd0>"
      ]
     },
     "execution_count": 18,
     "metadata": {},
     "output_type": "execute_result"
    },
    {
     "data": {
      "image/png": "[encoded data removed]",
      "text/plain": [
       "<Figure size 288x288 with 1 Axes>"
      ]
     },
     "metadata": {
      "needs_background": "light"
     },
     "output_type": "display_data"
    }
   ],
   "source": [
    "plt.figure(figsize=(4,4))\n",
    "sns.countplot(data=cancer_data,x='COUGHING',hue='LUNG_CANCER')\n",
    "plt.legend([\"Has cancer\", 'Does not have cancer'])"
   ]
  },
  {
   "cell_type": "code",
   "execution_count": 19,
   "id": "d15cd5a7",
   "metadata": {
    "execution": {
     "iopub.execute_input": "2022-07-19T17:42:00.732749Z",
     "iopub.status.busy": "2022-07-19T17:42:00.732179Z",
     "iopub.status.idle": "2022-07-19T17:42:00.929475Z",
     "shell.execute_reply": "2022-07-19T17:42:00.928627Z"
    },
    "papermill": {
     "duration": 0.217548,
     "end_time": "2022-07-19T17:42:00.931721",
     "exception": false,
     "start_time": "2022-07-19T17:42:00.714173",
     "status": "completed"
    },
    "tags": []
   },
   "outputs": [
    {
     "data": {
      "text/plain": [
       "<matplotlib.legend.Legend at 0x7f48a9f1ec10>"
      ]
     },
     "execution_count": 19,
     "metadata": {},
     "output_type": "execute_result"
    },
    {
     "data": {
      "image/png": "[encoded data removed]",
      "text/plain": [
       "<Figure size 288x288 with 1 Axes>"
      ]
     },
     "metadata": {
      "needs_background": "light"
     },
     "output_type": "display_data"
    }
   ],
   "source": [
    "plt.figure(figsize=(4,4))\n",
    "sns.countplot(data=cancer_data,x='YELLOW_FINGERS',hue='LUNG_CANCER')\n",
    "plt.legend([\"Has cancer\", 'Does not have cancer'])"
   ]
  },
  {
   "cell_type": "code",
   "execution_count": 20,
   "id": "937becfc",
   "metadata": {
    "execution": {
     "iopub.execute_input": "2022-07-19T17:42:00.969773Z",
     "iopub.status.busy": "2022-07-19T17:42:00.969003Z",
     "iopub.status.idle": "2022-07-19T17:42:01.175945Z",
     "shell.execute_reply": "2022-07-19T17:42:01.174798Z"
    },
    "papermill": {
     "duration": 0.229009,
     "end_time": "2022-07-19T17:42:01.178885",
     "exception": false,
     "start_time": "2022-07-19T17:42:00.949876",
     "status": "completed"
    },
    "tags": []
   },
   "outputs": [
    {
     "data": {
      "text/plain": [
       "<matplotlib.legend.Legend at 0x7f48a3e23f10>"
      ]
     },
     "execution_count": 20,
     "metadata": {},
     "output_type": "execute_result"
    },
    {
     "data": {
      "image/png": "[encoded data removed]",
      "text/plain": [
       "<Figure size 288x288 with 1 Axes>"
      ]
     },
     "metadata": {
      "needs_background": "light"
     },
     "output_type": "display_data"
    }
   ],
   "source": [
    "plt.figure(figsize=(4,4))\n",
    "sns.countplot(data=cancer_data,x='SHORTNESS OF BREATH',hue='LUNG_CANCER')\n",
    "plt.legend([\"Has cancer\", 'Does not have cancer'])"
   ]
  },
  {
   "cell_type": "markdown",
   "id": "37a38e09",
   "metadata": {
    "papermill": {
     "duration": 0.017015,
     "end_time": "2022-07-19T17:42:01.213809",
     "exception": false,
     "start_time": "2022-07-19T17:42:01.196794",
     "status": "completed"
    },
    "tags": []
   },
   "source": [
    "**Interestingly, in all three of the plots we can see that it doesn't really matter if the symptoms are showing or not as some people may have cancer yet not show any symptoms. So, regular checkups would be wiser than waiting for symptoms to show up as that may lead it to deteriorate conditions.**"
   ]
  },
  {
   "cell_type": "code",
   "execution_count": 21,
   "id": "286a72a6",
   "metadata": {
    "execution": {
     "iopub.execute_input": "2022-07-19T17:42:01.250815Z",
     "iopub.status.busy": "2022-07-19T17:42:01.250044Z",
     "iopub.status.idle": "2022-07-19T17:42:01.435465Z",
     "shell.execute_reply": "2022-07-19T17:42:01.434320Z"
    },
    "papermill": {
     "duration": 0.207013,
     "end_time": "2022-07-19T17:42:01.438372",
     "exception": false,
     "start_time": "2022-07-19T17:42:01.231359",
     "status": "completed"
    },
    "tags": []
   },
   "outputs": [
    {
     "data": {
      "text/plain": [
       "<matplotlib.legend.Legend at 0x7f48a3d60950>"
      ]
     },
     "execution_count": 21,
     "metadata": {},
     "output_type": "execute_result"
    },
    {
     "data": {
      "image/png": "[encoded data removed]",
      "text/plain": [
       "<Figure size 432x432 with 1 Axes>"
      ]
     },
     "metadata": {
      "needs_background": "light"
     },
     "output_type": "display_data"
    }
   ],
   "source": [
    "plt.figure(figsize=(6,6))\n",
    "sns.countplot(data=cancer_data,x='ANXIETY',hue='SHORTNESS OF BREATH')\n",
    "plt.legend([\"Difficulty Breathing\", 'No Difficulty Breathing'])"
   ]
  },
  {
   "cell_type": "markdown",
   "id": "6188b7b1",
   "metadata": {
    "papermill": {
     "duration": 0.018744,
     "end_time": "2022-07-19T17:42:01.476443",
     "exception": false,
     "start_time": "2022-07-19T17:42:01.457699",
     "status": "completed"
    },
    "tags": []
   },
   "source": [
    "**Earlier, I inferred that more anxiety may lead to more difficulty in breathing but we can see from this visualization that it does not really matter if someone has anxiety or not, most surveyors have difficulty breathing and this may be directly correlated to having cancer.**"
   ]
  },
  {
   "cell_type": "markdown",
   "id": "3c791eea",
   "metadata": {
    "papermill": {
     "duration": 0.017528,
     "end_time": "2022-07-19T17:42:01.512139",
     "exception": false,
     "start_time": "2022-07-19T17:42:01.494611",
     "status": "completed"
    },
    "tags": []
   },
   "source": [
    "# Conclusion"
   ]
  },
  {
   "cell_type": "markdown",
   "id": "db50fc9f",
   "metadata": {
    "papermill": {
     "duration": 0.017701,
     "end_time": "2022-07-19T17:42:01.548250",
     "exception": false,
     "start_time": "2022-07-19T17:42:01.530549",
     "status": "completed"
    },
    "tags": []
   },
   "source": [
    "**Based on the data, we've made inferences such as relationships between symptoms and the likeliness of having lung cancer and relationships with gender, age, etc.**\n",
    "\n",
    "**Training a machine learning model with this dataset could help us predict whether or not someone will be diagnosed with lung cancer or not.**"
   ]
  }
 ],
 "metadata": {
  "kernelspec": {
   "display_name": "Python 3",
   "language": "python",
   "name": "python3"
  },
  "language_info": {
   "codemirror_mode": {
    "name": "ipython",
    "version": 3
   },
   "file_extension": ".py",
   "mimetype": "text/x-python",
   "name": "python",
   "nbconvert_exporter": "python",
   "pygments_lexer": "ipython3",
   "version": "3.7.12"
  },
  "papermill": {
   "default_parameters": {},
   "duration": 18.872415,
   "end_time": "2022-07-19T17:42:02.389013",
   "environment_variables": {},
   "exception": null,
   "input_path": "__notebook__.ipynb",
   "output_path": "__notebook__.ipynb",
   "parameters": {},
   "start_time": "2022-07-19T17:41:43.516598",
   "version": "2.3.4"
  }
 },
 "nbformat": 4,
 "nbformat_minor": 5
}
